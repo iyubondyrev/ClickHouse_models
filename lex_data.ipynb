{
 "cells": [
  {
   "cell_type": "code",
   "execution_count": 2,
   "metadata": {},
   "outputs": [],
   "source": [
    "import os\n",
    "import subprocess\n",
    "from tqdm.notebook import tqdm"
   ]
  },
  {
   "cell_type": "code",
   "execution_count": 11,
   "metadata": {},
   "outputs": [
    {
     "data": {
      "application/vnd.jupyter.widget-view+json": {
       "model_id": "4b76e42e01bd4827a12bd40aa5b57004",
       "version_major": 2,
       "version_minor": 0
      },
      "text/plain": [
       "cleaned_data/Clickhouse/dataset_tests_pr_60095.txt: 0it [00:00, ?it/s]"
      ]
     },
     "metadata": {},
     "output_type": "display_data"
    },
    {
     "data": {
      "application/vnd.jupyter.widget-view+json": {
       "model_id": "6a998645ff674de4aea3c5df6842fab6",
       "version_major": 2,
       "version_minor": 0
      },
      "text/plain": [
       "cleaned_data/Spider/train.txt: 0it [00:00, ?it/s]"
      ]
     },
     "metadata": {},
     "output_type": "display_data"
    },
    {
     "data": {
      "application/vnd.jupyter.widget-view+json": {
       "model_id": "772158f0edb74872825b6dd7464f8e44",
       "version_major": 2,
       "version_minor": 0
      },
      "text/plain": [
       "cleaned_data/Spider/test.txt: 0it [00:00, ?it/s]"
      ]
     },
     "metadata": {},
     "output_type": "display_data"
    },
    {
     "data": {
      "application/vnd.jupyter.widget-view+json": {
       "model_id": "efdfe42f86b343c4a260faa368ccc76c",
       "version_major": 2,
       "version_minor": 0
      },
      "text/plain": [
       "cleaned_data/WikiSQL/train.txt: 0it [00:00, ?it/s]"
      ]
     },
     "metadata": {},
     "output_type": "display_data"
    },
    {
     "data": {
      "application/vnd.jupyter.widget-view+json": {
       "model_id": "4323cafe0c214d32b9f9e7743485e570",
       "version_major": 2,
       "version_minor": 0
      },
      "text/plain": [
       "cleaned_data/WikiSQL/validation.txt: 0it [00:00, ?it/s]"
      ]
     },
     "metadata": {},
     "output_type": "display_data"
    },
    {
     "data": {
      "application/vnd.jupyter.widget-view+json": {
       "model_id": "6e8ef5e591854e518c8d69062c4ec5d5",
       "version_major": 2,
       "version_minor": 0
      },
      "text/plain": [
       "cleaned_data/WikiSQL/test.txt: 0it [00:00, ?it/s]"
      ]
     },
     "metadata": {},
     "output_type": "display_data"
    },
    {
     "data": {
      "application/vnd.jupyter.widget-view+json": {
       "model_id": "2f05c8f94a1e49b29e4bf40b5ee2d9d7",
       "version_major": 2,
       "version_minor": 0
      },
      "text/plain": [
       "cleaned_data/KaggleDBQA/GreaterManchesterCrime.txt: 0it [00:00, ?it/s]"
      ]
     },
     "metadata": {},
     "output_type": "display_data"
    },
    {
     "data": {
      "application/vnd.jupyter.widget-view+json": {
       "model_id": "8fb5376bc5db4870b72b00ff8b588b9d",
       "version_major": 2,
       "version_minor": 0
      },
      "text/plain": [
       "cleaned_data/KaggleDBQA/WorldSoccerDataBase.txt: 0it [00:00, ?it/s]"
      ]
     },
     "metadata": {},
     "output_type": "display_data"
    },
    {
     "data": {
      "application/vnd.jupyter.widget-view+json": {
       "model_id": "1d85911954d042acbcb41831d922a9d1",
       "version_major": 2,
       "version_minor": 0
      },
      "text/plain": [
       "cleaned_data/KaggleDBQA/KaggleDBQA_combined.txt: 0it [00:00, ?it/s]"
      ]
     },
     "metadata": {},
     "output_type": "display_data"
    },
    {
     "data": {
      "application/vnd.jupyter.widget-view+json": {
       "model_id": "dcdfd407f2b64289b297efa38cf932f9",
       "version_major": 2,
       "version_minor": 0
      },
      "text/plain": [
       "cleaned_data/KaggleDBQA/TheHistoryofBaseball.txt: 0it [00:00, ?it/s]"
      ]
     },
     "metadata": {},
     "output_type": "display_data"
    },
    {
     "data": {
      "application/vnd.jupyter.widget-view+json": {
       "model_id": "51bb00971de9477d85e9b21108941e18",
       "version_major": 2,
       "version_minor": 0
      },
      "text/plain": [
       "cleaned_data/KaggleDBQA/GeoNuclearData.txt: 0it [00:00, ?it/s]"
      ]
     },
     "metadata": {},
     "output_type": "display_data"
    },
    {
     "data": {
      "application/vnd.jupyter.widget-view+json": {
       "model_id": "eaa965f2ed8743e79541cd4520aa4614",
       "version_major": 2,
       "version_minor": 0
      },
      "text/plain": [
       "cleaned_data/KaggleDBQA/Pesticide.txt: 0it [00:00, ?it/s]"
      ]
     },
     "metadata": {},
     "output_type": "display_data"
    },
    {
     "data": {
      "application/vnd.jupyter.widget-view+json": {
       "model_id": "1ec50714bb4840f58e647f509f1808a9",
       "version_major": 2,
       "version_minor": 0
      },
      "text/plain": [
       "cleaned_data/KaggleDBQA/WhatCDHipHop.txt: 0it [00:00, ?it/s]"
      ]
     },
     "metadata": {},
     "output_type": "display_data"
    },
    {
     "data": {
      "application/vnd.jupyter.widget-view+json": {
       "model_id": "ccee92372263499b94a69643161a02f5",
       "version_major": 2,
       "version_minor": 0
      },
      "text/plain": [
       "cleaned_data/KaggleDBQA/USWildFires.txt: 0it [00:00, ?it/s]"
      ]
     },
     "metadata": {},
     "output_type": "display_data"
    },
    {
     "data": {
      "application/vnd.jupyter.widget-view+json": {
       "model_id": "6baf2104777f4117ad3927c0dee6d38c",
       "version_major": 2,
       "version_minor": 0
      },
      "text/plain": [
       "cleaned_data/KaggleDBQA/StudentMathScore.txt: 0it [00:00, ?it/s]"
      ]
     },
     "metadata": {},
     "output_type": "display_data"
    }
   ],
   "source": [
    "# lex all queries and get token types (see after_lexer folder)\n",
    "for walk_obj in os.walk(\"cleaned_data\"):\n",
    "    if len(walk_obj[1]) != 0:\n",
    "        continue\n",
    "    folder_name = walk_obj[0]\n",
    "    for file_name in walk_obj[2]:\n",
    "        path_cleaned = os.path.join(folder_name, file_name)\n",
    "        tokens_file = os.path.join(\"after_lexer/\", folder_name.split(\"cleaned_data/\")[1], \"tokens/\", file_name)\n",
    "        tokens_type_file = os.path.join(\"after_lexer/\", folder_name.split(\"cleaned_data/\")[1], \"tokens_types/\", file_name)\n",
    "        with open(path_cleaned, 'r') as cleaned_file:\n",
    "            i = 1\n",
    "            for line in tqdm(cleaned_file, desc=path_cleaned):\n",
    "                command = ['./lexer', tokens_type_file, tokens_file]\n",
    "                input_line = line.strip()\n",
    "                process = subprocess.Popen(command, stdin=subprocess.PIPE, stdout=subprocess.PIPE, stderr=subprocess.PIPE)\n",
    "                process.stdin.write(input_line.encode())\n",
    "                process.stdin.close()\n",
    "                process.wait()"
   ]
  },
  {
   "cell_type": "code",
   "execution_count": 2,
   "metadata": {},
   "outputs": [
    {
     "name": "stdout",
     "output_type": "stream",
     "text": [
      "['SELECT', '1', '/* QUERY_GROUP_ID:main_dashboard_top_query */', ';']\n"
     ]
    }
   ],
   "source": [
    "import re\n",
    "\n",
    "def split_with_comments(line):\n",
    "    comment_pattern = re.compile(r'/\\*.*?\\*/')\n",
    "    comments = comment_pattern.findall(line)\n",
    "    \n",
    "    placeholder_format = \"COMMENT_PLACEHOLDER_{}\"\n",
    "    for i, comment in enumerate(comments):\n",
    "        line = line.replace(comment, placeholder_format.format(i), 1)\n",
    "    \n",
    "    tokens = line.split()\n",
    "    \n",
    "    for i, comment in enumerate(comments):\n",
    "        tokens = [token if token != placeholder_format.format(i) else comment for token in tokens]\n",
    "    \n",
    "    return tokens\n",
    "\n",
    "line = \"SELECT 1 /* QUERY_GROUP_ID:main_dashboard_top_query */ ;\"\n",
    "tokens = split_with_comments(line)\n",
    "print(tokens)"
   ]
  },
  {
   "cell_type": "code",
   "execution_count": 14,
   "metadata": {},
   "outputs": [],
   "source": [
    "keywords = set([\n",
    "    \"!=\",\n",
    "    \"\",\n",
    "    \"%\",\n",
    "    \"*\",\n",
    "    \"+\",\n",
    "    \"-\",\n",
    "    \"->\",\n",
    "    \".\",\n",
    "    \"/\",\n",
    "    \":\",\n",
    "    \"::\",\n",
    "    \"<\",\n",
    "    \"<=\",\n",
    "    \"<>\",\n",
    "    \"=\",\n",
    "    \"==\",\n",
    "    \"<=>\",\n",
    "    \">\",\n",
    "    \">=\",\n",
    "    \"?\",\n",
    "    \"[\",\n",
    "    \"]+\",\n",
    "    \"]+|[\",\n",
    "    \"^[\",\n",
    "    \"||\",\n",
    "    \"]+$\",\n",
    "    \"ACCESS\",\n",
    "    \"ACTION\",\n",
    "    \"ADD\",\n",
    "    \"ADMIN\",\n",
    "    \"AFTER\",\n",
    "    \"ALGORITHM\",\n",
    "    \"ALIAS\",\n",
    "    \"ALL\",\n",
    "    \"ALLOWED_LATENESS\",\n",
    "    \"ALTER\",\n",
    "    \"AND\",\n",
    "    \"ANTI\",\n",
    "    \"ANY\",\n",
    "    \"APPLY\",\n",
    "    \"ARRAY\",\n",
    "    \"AS\",\n",
    "    \"ASC\",\n",
    "    \"ASCENDING\",\n",
    "    \"ASOF\",\n",
    "    \"ASSUME\",\n",
    "    \"AST\",\n",
    "    \"ASYNC\",\n",
    "    \"ATTACH\",\n",
    "    \"AUTO_INCREMENT\",\n",
    "    \"BACKUP\",\n",
    "    \"BASE_BACKUP\",\n",
    "    \"BEGIN\",\n",
    "    \"BETWEEN\",\n",
    "    \"BIDIRECTIONAL\",\n",
    "    \"BOTH\",\n",
    "    \"BY\",\n",
    "    \"CACHE\",\n",
    "    \"CACHES\",\n",
    "    \"CASCADE\",\n",
    "    \"CASE\",\n",
    "    \"CASEWITHEXPRESSION\",\n",
    "    \"CAST\",\n",
    "    \"CHANGE\",\n",
    "    \"CHANGEABLE_IN_READONLY\",\n",
    "    \"CHANGED\",\n",
    "    \"CHAR\",\n",
    "    \"CHARACTER\",\n",
    "    \"CHECK\",\n",
    "    \"CLEANUP\",\n",
    "    \"CLEAR\",\n",
    "    \"CLUSTER\",\n",
    "    \"CLUSTER_HOST_IDS\",\n",
    "    \"CLUSTERS\",\n",
    "    \"CN\",\n",
    "    \"CODEC\",\n",
    "    \"COLLATE\",\n",
    "    \"COLLECTION\",\n",
    "    \"COLUMN\",\n",
    "    \"COLUMNS\",\n",
    "    \"COMMENT\",\n",
    "    \"COMMIT\",\n",
    "    \"COMPRESSION\",\n",
    "    \"CONCAT\",\n",
    "    \"CONSTRAINT\",\n",
    "    \"CREATE\",\n",
    "    \"CROSS\",\n",
    "    \"CUBE\",\n",
    "    \"CURRENT\",\n",
    "    \"CURRENT_USER\",\n",
    "    \"DATABASE\",\n",
    "    \"DATABASES\",\n",
    "    \"DATE\",\n",
    "    \"DATE_ADD\",\n",
    "    \"DATEADD\",\n",
    "    \"DATE_DIFF\",\n",
    "    \"DATEDIFF\",\n",
    "    \"DATE_SUB\",\n",
    "    \"DATESUB\",\n",
    "    \"DAY\",\n",
    "    \"DD\",\n",
    "    \"DDL\",\n",
    "    \"DEDUPLICATE\",\n",
    "    \"DEFAULT\",\n",
    "    \"DELAY\",\n",
    "    \"DELETE\",\n",
    "    \"DESC\",\n",
    "    \"DESCENDING\",\n",
    "    \"DESCRIBE\",\n",
    "    \"DETACH\",\n",
    "    \"DETACHED\",\n",
    "    \"DICTIONARIES\",\n",
    "    \"DICTIONARY\",\n",
    "    \"DISK\",\n",
    "    \"DISTINCT\",\n",
    "    \"DIV\",\n",
    "    \"DOUBLE_SHA1_HASH\",\n",
    "    \"DROP\",\n",
    "    \"ELSE\",\n",
    "    \"EMPTY\",\n",
    "    \"ENABLED\",\n",
    "    \"END\",\n",
    "    \"ENFORCED\",\n",
    "    \"ENGINE\",\n",
    "    \"EPHEMERAL\",\n",
    "    \"EQUALS\",\n",
    "    \"ESTIMATE\",\n",
    "    \"EVENT\",\n",
    "    \"EVENTS\",\n",
    "    \"EXCEPT\",\n",
    "    \"EXCHANGE\",\n",
    "    \"EXISTS\",\n",
    "    \"EXPLAIN\",\n",
    "    \"EXPRESSION\",\n",
    "    \"EXTERNAL\",\n",
    "    \"EXTRACT\",\n",
    "    \"FALSE\",\n",
    "    \"FETCH\",\n",
    "    \"FILE\",\n",
    "    \"FILESYSTEM\",\n",
    "    \"FILL\",\n",
    "    \"FILTER\",\n",
    "    \"FINAL\",\n",
    "    \"FIRST\",\n",
    "    \"FOLLOWING\",\n",
    "    \"FOR\",\n",
    "    \"FOREIGN\",\n",
    "    \"FORMAT\",\n",
    "    \"FREEZE\",\n",
    "    \"FROM\",\n",
    "    \"FULL\",\n",
    "    \"FULLTEXT\",\n",
    "    \"FUNCTION\",\n",
    "    \"GLOBAL\",\n",
    "    \"GRANT\",\n",
    "    \"GRANTEES\",\n",
    "    \"GRANTS\",\n",
    "    \"GRANULARITY\",\n",
    "    \"GREATER\",\n",
    "    \"GREATEROREQUALS\",\n",
    "    \"GROUP\",\n",
    "    \"GROUPING\",\n",
    "    \"GROUPS\",\n",
    "    \"HASH\",\n",
    "    \"HAVING\",\n",
    "    \"HDFS\",\n",
    "    \"HH\",\n",
    "    \"HIERARCHICAL\",\n",
    "    \"HOST\",\n",
    "    \"HOUR\",\n",
    "    \"ID\",\n",
    "    \"IDENTIFIED\",\n",
    "    \"IF\",\n",
    "    \"ILIKE\",\n",
    "    \"IN\",\n",
    "    \"INDEX\",\n",
    "    \"INFILE\",\n",
    "    \"INHERIT\",\n",
    "    \"INJECTIVE\",\n",
    "    \"INNER\",\n",
    "    \"INSERT\",\n",
    "    \"INTERPOLATE\",\n",
    "    \"INTERSECT\",\n",
    "    \"INTERVAL\",\n",
    "    \"INTO\",\n",
    "    \"INVISIBLE\",\n",
    "    \"IP\",\n",
    "    \"IS\",\n",
    "    \"IS_OBJECT_ID\",\n",
    "    \"JOIN\",\n",
    "    \"KEY\",\n",
    "    \"KEYED\",\n",
    "    \"KILL\",\n",
    "    \"LAMBDA\",\n",
    "    \"LARGE\",\n",
    "    \"LAST\",\n",
    "    \"LAYOUT\",\n",
    "    \"LEADING\",\n",
    "    \"LEFT\",\n",
    "    \"LESS\",\n",
    "    \"LESSOREQUALS\",\n",
    "    \"LEVEL\",\n",
    "    \"LIFETIME\",\n",
    "    \"LIKE\",\n",
    "    \"LIMIT\",\n",
    "    \"LIMITS\",\n",
    "    \"LINEAR\",\n",
    "    \"LIST\",\n",
    "    \"LITERAL\",\n",
    "    \"LIVE\",\n",
    "    \"LOCAL\",\n",
    "    \"LTRIM\",\n",
    "    \"MATCH\",\n",
    "    \"MATERIALIZE\",\n",
    "    \"MATERIALIZED\",\n",
    "    \"MAX\",\n",
    "    \"MCS\",\n",
    "    \"MEMORY\",\n",
    "    \"MI\",\n",
    "    \"MICROSECOND\",\n",
    "    \"MILLISECOND\",\n",
    "    \"MIN\",\n",
    "    \"MINUS\",\n",
    "    \"MINUTE\",\n",
    "    \"MM\",\n",
    "    \"MOD\",\n",
    "    \"MODIFY\",\n",
    "    \"MONTH\",\n",
    "    \"MOVE\",\n",
    "    \"MS\",\n",
    "    \"MULTIIF\",\n",
    "    \"MUTATION\",\n",
    "    \"NAME\",\n",
    "    \"NAMED\",\n",
    "    \"NANOSECOND\",\n",
    "    \"NEXT\",\n",
    "    \"NO\",\n",
    "    \"NONE\",\n",
    "    \"NOT\",\n",
    "    \"NOTEQUALS\",\n",
    "    \"NOTIN\",\n",
    "    \"NS\",\n",
    "    \"NULL\",\n",
    "    \"NULLS\",\n",
    "    \"OBJECT\",\n",
    "    \"OFFSET\",\n",
    "    \"ON\",\n",
    "    \"ONLY\",\n",
    "    \"OPTIMIZE\",\n",
    "    \"OPTION\",\n",
    "    \"OR\",\n",
    "    \"ORDER\",\n",
    "    \"OUTER\",\n",
    "    \"OUTFILE\",\n",
    "    \"OVER\",\n",
    "    \"OVERRIDE\",\n",
    "    \"PART\",\n",
    "    \"PARTIAL\",\n",
    "    \"PARTITION\",\n",
    "    \"PARTITIONS\",\n",
    "    \"PART_MOVE_TO_SHARD\",\n",
    "    \"PERMANENTLY\",\n",
    "    \"PERMISSIVE\",\n",
    "    \"PIPELINE\",\n",
    "    \"PLAN\",\n",
    "    \"PLUS\",\n",
    "    \"POLICY\",\n",
    "    \"POPULATE\",\n",
    "    \"POSITION\",\n",
    "    \"PRECEDING\",\n",
    "    \"PRECISION\",\n",
    "    \"PREWHERE\",\n",
    "    \"PRIMARY\",\n",
    "    \"PRIVILEGES\",\n",
    "    \"PROCESSLIST\",\n",
    "    \"PROFILE\",\n",
    "    \"PROJECTION\",\n",
    "    \"QQ\",\n",
    "    \"QUARTER\",\n",
    "    \"QUERY\",\n",
    "    \"QUOTA\",\n",
    "    \"RANDOMIZED\",\n",
    "    \"RANGE\",\n",
    "    \"READONLY\",\n",
    "    \"REALM\",\n",
    "    \"RECOMPRESS\",\n",
    "    \"REFERENCES\",\n",
    "    \"REFRESH\",\n",
    "    \"REGEXP\",\n",
    "    \"REGEXPQUOTEMETA\",\n",
    "    \"REMOVE\",\n",
    "    \"RENAME\",\n",
    "    \"REPLACE\",\n",
    "    \"REPLACEREGEXPALL\",\n",
    "    \"REPLACEREGEXPONE\",\n",
    "    \"RESET\",\n",
    "    \"RESTORE\",\n",
    "    \"RESTRICT\",\n",
    "    \"RESTRICTIVE\",\n",
    "    \"RESUME\",\n",
    "    \"REVOKE\",\n",
    "    \"RIGHT\",\n",
    "    \"ROLE\",\n",
    "    \"ROLES\",\n",
    "    \"ROLLBACK\",\n",
    "    \"ROLLUP\",\n",
    "    \"ROW\",\n",
    "    \"ROWS\",\n",
    "    \"RTRIM\",\n",
    "    \"S3\",\n",
    "    \"SALT\",\n",
    "    \"SAMPLE\",\n",
    "    \"SECOND\",\n",
    "    \"SELECT\",\n",
    "    \"SEMI\",\n",
    "    \"SERVER\",\n",
    "    \"SET\",\n",
    "    \"SETS\",\n",
    "    \"SETTING\",\n",
    "    \"SETTINGS\",\n",
    "    \"SHA256_HASH\",\n",
    "    \"SHARD\",\n",
    "    \"SHOW\",\n",
    "    \"SIGNED\",\n",
    "    \"SIMPLE\",\n",
    "    \"SINGLEVALUEORNULL\",\n",
    "    \"SNAPSHOT\",\n",
    "    \"SOURCE\",\n",
    "    \"SPATIAL\",\n",
    "    \"SS\",\n",
    "    \"STDOUT\",\n",
    "    \"STEP\",\n",
    "    \"STORAGE\",\n",
    "    \"STRICT\",\n",
    "    \"STRICTLY_ASCENDING\",\n",
    "    \"SUBPARTITION\",\n",
    "    \"SUBPARTITIONS\",\n",
    "    \"SUBSTRING\",\n",
    "    \"SUSPEND\",\n",
    "    \"SYNC\",\n",
    "    \"SYNTAX\",\n",
    "    \"SYSTEM\",\n",
    "    \"TABLE\",\n",
    "    \"TABLES\",\n",
    "    \"TEMPORARY\",\n",
    "    \"TEST\",\n",
    "    \"THAN\",\n",
    "    \"THEN\",\n",
    "    \"TIES\",\n",
    "    \"TIMESTAMP\",\n",
    "    \"TIMESTAMP_ADD\",\n",
    "    \"TIMESTAMPADD\",\n",
    "    \"TIMESTAMP_DIFF\",\n",
    "    \"TIMESTAMPDIFF\",\n",
    "    \"TIMESTAMP_SUB\",\n",
    "    \"TIMESTAMPSUB\",\n",
    "    \"TO\",\n",
    "    \"TODATE\",\n",
    "    \"TODATETIME\",\n",
    "    \"TOP\",\n",
    "    \"TOTALS\",\n",
    "    \"TRACKING\",\n",
    "    \"TRAILING\",\n",
    "    \"TRANSACTION\",\n",
    "    \"TREE\",\n",
    "    \"TRIGGER\",\n",
    "    \"TRIM\",\n",
    "    \"TRIMBOTH\",\n",
    "    \"TRIMLEFT\",\n",
    "    \"TRIMRIGHT\",\n",
    "    \"TRUE\",\n",
    "    \"TRUNCATE\",\n",
    "    \"TTL\",\n",
    "    \"TUPLE\",\n",
    "    \"TYPE\",\n",
    "    \"UNBOUNDED\",\n",
    "    \"UNFREEZE\",\n",
    "    \"UNION\",\n",
    "    \"UNIQUE\",\n",
    "    \"UNSIGNED\",\n",
    "    \"UNTUPLE\",\n",
    "    \"UPDATE\",\n",
    "    \"URL\",\n",
    "    \"USE\",\n",
    "    \"USER\",\n",
    "    \"USING\",\n",
    "    \"UUID\",\n",
    "    \"VALUES\",\n",
    "    \"VARYING\",\n",
    "    \"VIEW\",\n",
    "    \"VIEWIFPERMITTED\",\n",
    "    \"VISIBLE\",\n",
    "    \"VOLUME\",\n",
    "    \"WATCH\",\n",
    "    \"WATERMARK\",\n",
    "    \"WEEK\",\n",
    "    \"WHEN\",\n",
    "    \"WHERE\",\n",
    "    \"WINDOW\",\n",
    "    \"WITH\",\n",
    "    \"WK\",\n",
    "    \"WRITABLE\",\n",
    "    \"YEAR\",\n",
    "    \"YYYY\",\n",
    "    \"ZKPATH\"\n",
    "])"
   ]
  },
  {
   "cell_type": "code",
   "execution_count": 15,
   "metadata": {},
   "outputs": [
    {
     "data": {
      "application/vnd.jupyter.widget-view+json": {
       "model_id": "bfb75b0fe2c447e98da38a1a99e8689e",
       "version_major": 2,
       "version_minor": 0
      },
      "text/plain": [
       "after_lexer/Clickhouse/tokens/dataset_tests_pr_60095.txt: 0it [00:00, ?it/s]"
      ]
     },
     "metadata": {},
     "output_type": "display_data"
    },
    {
     "data": {
      "application/vnd.jupyter.widget-view+json": {
       "model_id": "2365373fa53e416d95b0beaa211564a9",
       "version_major": 2,
       "version_minor": 0
      },
      "text/plain": [
       "after_lexer/Spider/tokens/train.txt: 0it [00:00, ?it/s]"
      ]
     },
     "metadata": {},
     "output_type": "display_data"
    },
    {
     "data": {
      "application/vnd.jupyter.widget-view+json": {
       "model_id": "0a8e6878c2e549f2b5be69a2a82ba35e",
       "version_major": 2,
       "version_minor": 0
      },
      "text/plain": [
       "after_lexer/Spider/tokens/test.txt: 0it [00:00, ?it/s]"
      ]
     },
     "metadata": {},
     "output_type": "display_data"
    },
    {
     "data": {
      "application/vnd.jupyter.widget-view+json": {
       "model_id": "2f27343acd8a40ca96043444b980ac95",
       "version_major": 2,
       "version_minor": 0
      },
      "text/plain": [
       "after_lexer/WikiSQL/tokens/train.txt: 0it [00:00, ?it/s]"
      ]
     },
     "metadata": {},
     "output_type": "display_data"
    },
    {
     "data": {
      "application/vnd.jupyter.widget-view+json": {
       "model_id": "a68ade47342f4245989d9da5a21d57e6",
       "version_major": 2,
       "version_minor": 0
      },
      "text/plain": [
       "after_lexer/WikiSQL/tokens/validation.txt: 0it [00:00, ?it/s]"
      ]
     },
     "metadata": {},
     "output_type": "display_data"
    },
    {
     "data": {
      "application/vnd.jupyter.widget-view+json": {
       "model_id": "7f8557a5db30456d8a79e54feb181b08",
       "version_major": 2,
       "version_minor": 0
      },
      "text/plain": [
       "after_lexer/WikiSQL/tokens/test.txt: 0it [00:00, ?it/s]"
      ]
     },
     "metadata": {},
     "output_type": "display_data"
    },
    {
     "data": {
      "application/vnd.jupyter.widget-view+json": {
       "model_id": "8db1cb96406a4b9f98e0c5b046bba2d5",
       "version_major": 2,
       "version_minor": 0
      },
      "text/plain": [
       "after_lexer/KaggleDBQA/tokens/GreaterManchesterCrime.txt: 0it [00:00, ?it/s]"
      ]
     },
     "metadata": {},
     "output_type": "display_data"
    },
    {
     "data": {
      "application/vnd.jupyter.widget-view+json": {
       "model_id": "3f3a8551992f48aab2f462f94583fe51",
       "version_major": 2,
       "version_minor": 0
      },
      "text/plain": [
       "after_lexer/KaggleDBQA/tokens/WorldSoccerDataBase.txt: 0it [00:00, ?it/s]"
      ]
     },
     "metadata": {},
     "output_type": "display_data"
    },
    {
     "data": {
      "application/vnd.jupyter.widget-view+json": {
       "model_id": "bda9da27d4044f63aee058ec7747ff03",
       "version_major": 2,
       "version_minor": 0
      },
      "text/plain": [
       "after_lexer/KaggleDBQA/tokens/KaggleDBQA_combined.txt: 0it [00:00, ?it/s]"
      ]
     },
     "metadata": {},
     "output_type": "display_data"
    },
    {
     "data": {
      "application/vnd.jupyter.widget-view+json": {
       "model_id": "a6d1a75ca24246f5ae832144737c4f5c",
       "version_major": 2,
       "version_minor": 0
      },
      "text/plain": [
       "after_lexer/KaggleDBQA/tokens/TheHistoryofBaseball.txt: 0it [00:00, ?it/s]"
      ]
     },
     "metadata": {},
     "output_type": "display_data"
    },
    {
     "data": {
      "application/vnd.jupyter.widget-view+json": {
       "model_id": "04d408e0af4240e0a5029ba74055be3f",
       "version_major": 2,
       "version_minor": 0
      },
      "text/plain": [
       "after_lexer/KaggleDBQA/tokens/GeoNuclearData.txt: 0it [00:00, ?it/s]"
      ]
     },
     "metadata": {},
     "output_type": "display_data"
    },
    {
     "data": {
      "application/vnd.jupyter.widget-view+json": {
       "model_id": "85848dc344e84f39835523809ad6550a",
       "version_major": 2,
       "version_minor": 0
      },
      "text/plain": [
       "after_lexer/KaggleDBQA/tokens/Pesticide.txt: 0it [00:00, ?it/s]"
      ]
     },
     "metadata": {},
     "output_type": "display_data"
    },
    {
     "data": {
      "application/vnd.jupyter.widget-view+json": {
       "model_id": "83769c89dd634d0bbef2c94aec9e0652",
       "version_major": 2,
       "version_minor": 0
      },
      "text/plain": [
       "after_lexer/KaggleDBQA/tokens/WhatCDHipHop.txt: 0it [00:00, ?it/s]"
      ]
     },
     "metadata": {},
     "output_type": "display_data"
    },
    {
     "data": {
      "application/vnd.jupyter.widget-view+json": {
       "model_id": "78a4c57a21694101848baa39b25e5d9e",
       "version_major": 2,
       "version_minor": 0
      },
      "text/plain": [
       "after_lexer/KaggleDBQA/tokens/USWildFires.txt: 0it [00:00, ?it/s]"
      ]
     },
     "metadata": {},
     "output_type": "display_data"
    },
    {
     "data": {
      "application/vnd.jupyter.widget-view+json": {
       "model_id": "20cb186844cb48f5a53ca8c14c881ebf",
       "version_major": 2,
       "version_minor": 0
      },
      "text/plain": [
       "after_lexer/KaggleDBQA/tokens/StudentMathScore.txt: 0it [00:00, ?it/s]"
      ]
     },
     "metadata": {},
     "output_type": "display_data"
    }
   ],
   "source": [
    "# clean from errors\n",
    "\n",
    "for walk_obj in os.walk(\"cleaned_data\"):\n",
    "    if len(walk_obj[1]) != 0:\n",
    "        continue\n",
    "    folder_name = walk_obj[0]\n",
    "    for file_name in walk_obj[2]:\n",
    "        path_cleaned = os.path.join(folder_name, file_name)\n",
    "        tokens = os.path.join(\"after_lexer/\", folder_name.split(\"cleaned_data/\")[1], \"tokens/\", file_name)\n",
    "        tokens_types = os.path.join(\"after_lexer/\", folder_name.split(\"cleaned_data/\")[1], \"tokens_types/\", file_name)\n",
    "        tokens_without_errors = os.path.join(\"no_errors_keyword_identifier/\", folder_name.split(\"cleaned_data/\")[1], \"tokens/\", file_name)\n",
    "        tokens_types_without_errors = os.path.join(\"no_errors_keyword_identifier/\", folder_name.split(\"cleaned_data/\")[1], \"tokens_types/\", file_name)\n",
    "        with open(tokens, \"r\", errors='ignore') as t, open(tokens_types, \"r\") as t_t,\\\n",
    "             open(tokens_without_errors, \"w+\") as t_w_e, open(tokens_types_without_errors, 'w+') as t_t_w_e:\n",
    "            for l_types in tqdm(t_t, desc=tokens):\n",
    "                l_types = l_types.split()\n",
    "                if l_types[-1] == \"Error\":\n",
    "                    next(t)\n",
    "                    continue\n",
    "                l_tokens = split_with_comments(t.readline())\n",
    "                new_types = []\n",
    "                new_tokens = []\n",
    "                cur_token = 0\n",
    "                cnt_whitespace = 0\n",
    "                for token_type in l_types:\n",
    "                    if token_type == \"Comment\":\n",
    "                        cur_token += 1\n",
    "                        continue\n",
    "                    if token_type == \"Whitespace\":\n",
    "                        cnt_whitespace += 1\n",
    "                        new_types.append(token_type)\n",
    "                        continue\n",
    "                    new_token_type = \"\"\n",
    "                    if token_type == \"BareWord\" and l_tokens[cur_token].upper() in keywords:\n",
    "                        new_token_type = \"KeyWord\"\n",
    "                    elif token_type == \"BareWord\" and l_tokens[cur_token].upper() not in keywords:\n",
    "                        new_token_type = \"Identifier\"\n",
    "                    else:\n",
    "                        new_token_type = token_type\n",
    "                    new_types.append(new_token_type)\n",
    "                    new_tokens.append(l_tokens[cur_token])\n",
    "                    cur_token += 1\n",
    "                assert len(new_tokens) == len(new_types) - cnt_whitespace\n",
    "                t_w_e.write(\" \".join(l_tokens) + \"\\n\")\n",
    "                t_t_w_e.write(\" \".join(new_types) + \"\\n\")\n",
    "\n"
   ]
  },
  {
   "cell_type": "code",
   "execution_count": 13,
   "metadata": {},
   "outputs": [
    {
     "name": "stdout",
     "output_type": "stream",
     "text": [
      "no_errors_keyword_identifier/Clickhouse/tokens/dataset_tests_pr_60095.txt\n",
      "no_errors_keyword_identifier/Clickhouse/tokens_types/dataset_tests_pr_60095.txt\n",
      "293162\n",
      "no_errors_keyword_identifier/Spider/tokens/train.txt\n",
      "no_errors_keyword_identifier/Spider/tokens_types/train.txt\n",
      "7000\n",
      "no_errors_keyword_identifier/Spider/tokens/test.txt\n",
      "no_errors_keyword_identifier/Spider/tokens_types/test.txt\n",
      "1034\n",
      "no_errors_keyword_identifier/WikiSQL/tokens/train.txt\n",
      "no_errors_keyword_identifier/WikiSQL/tokens_types/train.txt\n",
      "52257\n",
      "no_errors_keyword_identifier/WikiSQL/tokens/validation.txt\n",
      "no_errors_keyword_identifier/WikiSQL/tokens_types/validation.txt\n",
      "7800\n",
      "no_errors_keyword_identifier/WikiSQL/tokens/test.txt\n",
      "no_errors_keyword_identifier/WikiSQL/tokens_types/test.txt\n",
      "14796\n",
      "no_errors_keyword_identifier/KaggleDBQA/tokens/GreaterManchesterCrime.txt\n",
      "no_errors_keyword_identifier/KaggleDBQA/tokens_types/GreaterManchesterCrime.txt\n",
      "27\n",
      "no_errors_keyword_identifier/KaggleDBQA/tokens/WorldSoccerDataBase.txt\n",
      "no_errors_keyword_identifier/KaggleDBQA/tokens_types/WorldSoccerDataBase.txt\n",
      "18\n",
      "no_errors_keyword_identifier/KaggleDBQA/tokens/KaggleDBQA_combined.txt\n",
      "no_errors_keyword_identifier/KaggleDBQA/tokens_types/KaggleDBQA_combined.txt\n",
      "272\n",
      "no_errors_keyword_identifier/KaggleDBQA/tokens/TheHistoryofBaseball.txt\n",
      "no_errors_keyword_identifier/KaggleDBQA/tokens_types/TheHistoryofBaseball.txt\n",
      "39\n",
      "no_errors_keyword_identifier/KaggleDBQA/tokens/GeoNuclearData.txt\n",
      "no_errors_keyword_identifier/KaggleDBQA/tokens_types/GeoNuclearData.txt\n",
      "32\n",
      "no_errors_keyword_identifier/KaggleDBQA/tokens/Pesticide.txt\n",
      "no_errors_keyword_identifier/KaggleDBQA/tokens_types/Pesticide.txt\n",
      "50\n",
      "no_errors_keyword_identifier/KaggleDBQA/tokens/WhatCDHipHop.txt\n",
      "no_errors_keyword_identifier/KaggleDBQA/tokens_types/WhatCDHipHop.txt\n",
      "41\n",
      "no_errors_keyword_identifier/KaggleDBQA/tokens/USWildFires.txt\n",
      "no_errors_keyword_identifier/KaggleDBQA/tokens_types/USWildFires.txt\n",
      "37\n",
      "no_errors_keyword_identifier/KaggleDBQA/tokens/StudentMathScore.txt\n",
      "no_errors_keyword_identifier/KaggleDBQA/tokens_types/StudentMathScore.txt\n",
      "28\n"
     ]
    }
   ],
   "source": [
    "# sanity check\n",
    "\n",
    "\n",
    "for walk_obj in os.walk(\"cleaned_data\"):\n",
    "    if len(walk_obj[1]) != 0:\n",
    "        continue\n",
    "    folder_name = walk_obj[0]\n",
    "    for file_name in walk_obj[2]:\n",
    "        path_cleaned = os.path.join(folder_name, file_name)\n",
    "        tokens_without_errors = os.path.join(\"no_errors_keyword_identifier/\", folder_name.split(\"cleaned_data/\")[1], \"tokens/\", file_name)\n",
    "        tokens_types_without_errors = os.path.join(\"no_errors_keyword_identifier/\", folder_name.split(\"cleaned_data/\")[1], \"tokens_types/\", file_name)\n",
    "        with open(tokens_without_errors, \"r\") as t_w_e, open(tokens_types_without_errors, 'r') as t_t_w_e:\n",
    "            print(tokens_without_errors)\n",
    "            print(tokens_types_without_errors)\n",
    "            cnt_1 = 0\n",
    "            cnt_2 = 0\n",
    "            for line in t_w_e:\n",
    "                cnt_1 += 1\n",
    "            for line in t_t_w_e:\n",
    "                cnt_2 += 1\n",
    "            print(cnt_1)\n",
    "            assert cnt_1 == cnt_2\n"
   ]
  },
  {
   "cell_type": "code",
   "execution_count": 7,
   "metadata": {},
   "outputs": [
    {
     "data": {
      "application/vnd.jupyter.widget-view+json": {
       "model_id": "11b0b14558f74554a88b4552ec5aa14e",
       "version_major": 2,
       "version_minor": 0
      },
      "text/plain": [
       "no_errors_keyword_identifier/Clickhouse/tokens_types/with_whitespace/dataset_tests_pr_60095.txt: 0it [00:00, ?…"
      ]
     },
     "metadata": {},
     "output_type": "display_data"
    },
    {
     "data": {
      "application/vnd.jupyter.widget-view+json": {
       "model_id": "d05ae21518fb4609a9ed1985c2565d62",
       "version_major": 2,
       "version_minor": 0
      },
      "text/plain": [
       "no_errors_keyword_identifier/Spider/tokens_types/with_whitespace/train.txt: 0it [00:00, ?it/s]"
      ]
     },
     "metadata": {},
     "output_type": "display_data"
    },
    {
     "data": {
      "application/vnd.jupyter.widget-view+json": {
       "model_id": "de7e3ed6a8f34c668942d87e91964bbf",
       "version_major": 2,
       "version_minor": 0
      },
      "text/plain": [
       "no_errors_keyword_identifier/Spider/tokens_types/with_whitespace/test.txt: 0it [00:00, ?it/s]"
      ]
     },
     "metadata": {},
     "output_type": "display_data"
    },
    {
     "data": {
      "application/vnd.jupyter.widget-view+json": {
       "model_id": "71703138a121488ab1ea09208b7cb689",
       "version_major": 2,
       "version_minor": 0
      },
      "text/plain": [
       "no_errors_keyword_identifier/WikiSQL/tokens_types/with_whitespace/train.txt: 0it [00:00, ?it/s]"
      ]
     },
     "metadata": {},
     "output_type": "display_data"
    },
    {
     "data": {
      "application/vnd.jupyter.widget-view+json": {
       "model_id": "be9a035830d447bb8ee180622f0b3b87",
       "version_major": 2,
       "version_minor": 0
      },
      "text/plain": [
       "no_errors_keyword_identifier/WikiSQL/tokens_types/with_whitespace/validation.txt: 0it [00:00, ?it/s]"
      ]
     },
     "metadata": {},
     "output_type": "display_data"
    },
    {
     "data": {
      "application/vnd.jupyter.widget-view+json": {
       "model_id": "07cebbd7c937460db7774ce3ef74b5ce",
       "version_major": 2,
       "version_minor": 0
      },
      "text/plain": [
       "no_errors_keyword_identifier/WikiSQL/tokens_types/with_whitespace/test.txt: 0it [00:00, ?it/s]"
      ]
     },
     "metadata": {},
     "output_type": "display_data"
    },
    {
     "data": {
      "application/vnd.jupyter.widget-view+json": {
       "model_id": "c84e9271e3874a21b6f7f660df172395",
       "version_major": 2,
       "version_minor": 0
      },
      "text/plain": [
       "no_errors_keyword_identifier/KaggleDBQA/tokens_types/with_whitespace/GreaterManchesterCrime.txt: 0it [00:00, ?…"
      ]
     },
     "metadata": {},
     "output_type": "display_data"
    },
    {
     "data": {
      "application/vnd.jupyter.widget-view+json": {
       "model_id": "43b6098740184065ad7367fbf77e2f96",
       "version_major": 2,
       "version_minor": 0
      },
      "text/plain": [
       "no_errors_keyword_identifier/KaggleDBQA/tokens_types/with_whitespace/WorldSoccerDataBase.txt: 0it [00:00, ?it/…"
      ]
     },
     "metadata": {},
     "output_type": "display_data"
    },
    {
     "data": {
      "application/vnd.jupyter.widget-view+json": {
       "model_id": "7b54557cc7ac43738a553aed52c854b1",
       "version_major": 2,
       "version_minor": 0
      },
      "text/plain": [
       "no_errors_keyword_identifier/KaggleDBQA/tokens_types/with_whitespace/KaggleDBQA_combined.txt: 0it [00:00, ?it/…"
      ]
     },
     "metadata": {},
     "output_type": "display_data"
    },
    {
     "data": {
      "application/vnd.jupyter.widget-view+json": {
       "model_id": "5d25af87f39d40c7904a3cbf2bea26eb",
       "version_major": 2,
       "version_minor": 0
      },
      "text/plain": [
       "no_errors_keyword_identifier/KaggleDBQA/tokens_types/with_whitespace/TheHistoryofBaseball.txt: 0it [00:00, ?it…"
      ]
     },
     "metadata": {},
     "output_type": "display_data"
    },
    {
     "data": {
      "application/vnd.jupyter.widget-view+json": {
       "model_id": "5d511e9fd0d94d48b2e8b76db7842009",
       "version_major": 2,
       "version_minor": 0
      },
      "text/plain": [
       "no_errors_keyword_identifier/KaggleDBQA/tokens_types/with_whitespace/GeoNuclearData.txt: 0it [00:00, ?it/s]"
      ]
     },
     "metadata": {},
     "output_type": "display_data"
    },
    {
     "data": {
      "application/vnd.jupyter.widget-view+json": {
       "model_id": "affc008a68e641089b648d6f4f36558d",
       "version_major": 2,
       "version_minor": 0
      },
      "text/plain": [
       "no_errors_keyword_identifier/KaggleDBQA/tokens_types/with_whitespace/Pesticide.txt: 0it [00:00, ?it/s]"
      ]
     },
     "metadata": {},
     "output_type": "display_data"
    },
    {
     "data": {
      "application/vnd.jupyter.widget-view+json": {
       "model_id": "eee45bd733b740f4ba4b76941810ae7a",
       "version_major": 2,
       "version_minor": 0
      },
      "text/plain": [
       "no_errors_keyword_identifier/KaggleDBQA/tokens_types/with_whitespace/WhatCDHipHop.txt: 0it [00:00, ?it/s]"
      ]
     },
     "metadata": {},
     "output_type": "display_data"
    },
    {
     "data": {
      "application/vnd.jupyter.widget-view+json": {
       "model_id": "faf7238d3a874dffa8d7f4e513cda8d2",
       "version_major": 2,
       "version_minor": 0
      },
      "text/plain": [
       "no_errors_keyword_identifier/KaggleDBQA/tokens_types/with_whitespace/USWildFires.txt: 0it [00:00, ?it/s]"
      ]
     },
     "metadata": {},
     "output_type": "display_data"
    },
    {
     "data": {
      "application/vnd.jupyter.widget-view+json": {
       "model_id": "8566b21499b84354a5c655d9afd4b641",
       "version_major": 2,
       "version_minor": 0
      },
      "text/plain": [
       "no_errors_keyword_identifier/KaggleDBQA/tokens_types/with_whitespace/StudentMathScore.txt: 0it [00:00, ?it/s]"
      ]
     },
     "metadata": {},
     "output_type": "display_data"
    }
   ],
   "source": [
    "# remove whitespaces \n",
    "for walk_obj in os.walk(\"no_errors_keyword_identifier\"):\n",
    "    if walk_obj[0].split(\"/\")[-1] != \"with_whitespace\":\n",
    "        continue\n",
    "    \n",
    "    folder_name_with = walk_obj[0]\n",
    "    folder_name_without = os.path.join(\"/\".join(walk_obj[0].split(\"/\")[:-1]), \"without_whitespace\")\n",
    "    \n",
    "    for file_name in walk_obj[2]:\n",
    "        path_to_file_with = os.path.join(folder_name_with, file_name)\n",
    "        path_to_file_without = os.path.join(folder_name_without, file_name)\n",
    "        with open(path_to_file_with, \"r\") as f_with, open(path_to_file_without, \"w+\") as f_without:\n",
    "            for line in tqdm(f_with, desc=path_to_file_with):\n",
    "                tokens_types = line.split()\n",
    "                without_whitespace_types = []\n",
    "                for token_type in tokens_types:\n",
    "                    if token_type == \"Whitespace\":\n",
    "                        continue\n",
    "                    without_whitespace_types.append(token_type)\n",
    "                f_without.write(\" \".join(without_whitespace_types) + \"\\n\")\n"
   ]
  },
  {
   "cell_type": "code",
   "execution_count": null,
   "metadata": {},
   "outputs": [],
   "source": []
  }
 ],
 "metadata": {
  "kernelspec": {
   "display_name": ".venv",
   "language": "python",
   "name": "python3"
  },
  "language_info": {
   "codemirror_mode": {
    "name": "ipython",
    "version": 3
   },
   "file_extension": ".py",
   "mimetype": "text/x-python",
   "name": "python",
   "nbconvert_exporter": "python",
   "pygments_lexer": "ipython3",
   "version": "3.10.12"
  }
 },
 "nbformat": 4,
 "nbformat_minor": 2
}
