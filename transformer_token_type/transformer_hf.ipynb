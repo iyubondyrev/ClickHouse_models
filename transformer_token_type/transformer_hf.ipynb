{
 "cells": [
  {
   "cell_type": "code",
   "execution_count": 1,
   "metadata": {},
   "outputs": [],
   "source": [
    "from torch import Tensor\n",
    "import torch\n",
    "import torch.nn as nn\n",
    "from torch.nn import TransformerEncoder, TransformerEncoderLayer\n",
    "from numpy import sqrt, log\n",
    "from dataset import TokenTypesDataset"
   ]
  },
  {
   "cell_type": "code",
   "execution_count": 3,
   "metadata": {},
   "outputs": [],
   "source": [
    "train_dataset = TokenTypesDataset(folder=\"../tokentype_keywordasitis_data/train\")\n",
    "val_dataset = TokenTypesDataset(folder=\"../tokentype_keywordasitis_data/validation\", train=False, vocabs=(train_dataset.token2idx, train_dataset.idx2token), max_length=train_dataset.max_length)\n",
    "test_dataset = TokenTypesDataset(folder=\"../tokentype_keywordasitis_data/test\", train=False, vocabs=(train_dataset.token2idx, train_dataset.idx2token), max_length=train_dataset.max_length)\n",
    "assert val_dataset.vocab_size == train_dataset.vocab_size == test_dataset.vocab_size\n",
    "assert val_dataset.max_length == train_dataset.max_length == test_dataset.max_length\n"
   ]
  },
  {
   "cell_type": "code",
   "execution_count": 4,
   "metadata": {},
   "outputs": [],
   "source": [
    "def generate_square_subsequent_mask(sz, device):\n",
    "    mask = (torch.triu(torch.ones((sz, sz), device=device)) == 1).transpose(0, 1)\n",
    "    mask = mask.float().masked_fill(mask == 0, float('-inf')).masked_fill(mask == 1, float(0.0))\n",
    "    return mask\n",
    "\n",
    "\n",
    "def create_masks(src, pad_idx, device):\n",
    "    src_seq_len = src.shape[1]\n",
    "\n",
    "    src_mask = generate_square_subsequent_mask(src_seq_len, device=device)\n",
    "\n",
    "    src_padding_mask = (src == pad_idx)\n",
    "    return src_mask, src_padding_mask"
   ]
  },
  {
   "cell_type": "code",
   "execution_count": 5,
   "metadata": {},
   "outputs": [],
   "source": [
    "from torch.utils.data import DataLoader\n",
    "from tqdm.notebook import tqdm\n",
    "from transformers import Phi3Config, Phi3ForCausalLM\n",
    "\n",
    "def calc_accuracy_and_hitrate_at_k(model: Phi3ForCausalLM, loader, device, k=3):\n",
    "    \n",
    "    total_seq_len_in_dataloader = 0\n",
    "    total_correct_predictions = 0\n",
    "    total_hits_in_loader = 0\n",
    "    \n",
    "    for batch in tqdm(loader):\n",
    "        src_mask, src_pad_mask = (create_masks(batch, pad_idx=loader.dataset.pad_id, device=device))\n",
    "        src_mask = src_mask.to(device)\n",
    "        src_pad_mask = src_pad_mask.to(device)\n",
    "        batch = batch.to(device)\n",
    "    \n",
    "        labels = batch[:, 1:]\n",
    "        labels_pad_mask = (labels == 0)\n",
    "        labels_without_pad = labels[~labels_pad_mask]\n",
    "        logits_without_last = model.forward(input_ids=batch, attention_mask=src_pad_mask).logits[:, :-1, :]\n",
    "        predictions = logits_without_last.argmax(dim=-1)\n",
    "        predictions_without_pad = predictions[~labels_pad_mask]\n",
    "\n",
    "        top_k_predictions = torch.argsort(logits_without_last, dim=-1, descending=True)[:, :, :k][~labels_pad_mask]\n",
    "\n",
    "    \n",
    "        total_seq_len_in_batch = labels_without_pad.shape[0]\n",
    "        total_predicions_len = predictions_without_pad.shape[0]\n",
    "    \n",
    "        assert total_seq_len_in_batch == total_predicions_len\n",
    "    \n",
    "        total_seq_len_in_dataloader += total_seq_len_in_batch\n",
    "    \n",
    "        correct_predictions = (labels_without_pad == predictions_without_pad).float().sum()\n",
    "\n",
    "        total_hits_in_batch = (top_k_predictions == labels_without_pad.unsqueeze(1)).any(dim=1).float().sum()\n",
    "        \n",
    "        total_hits_in_loader += total_hits_in_batch\n",
    "        total_correct_predictions += correct_predictions\n",
    "    \n",
    "    return (total_correct_predictions / total_seq_len_in_dataloader).item(), (total_hits_in_loader / total_seq_len_in_dataloader).item()\n",
    "\n",
    "def train_epoch(model: Phi3ForCausalLM, optimizer, loss_fn, train_dataloader: DataLoader, device):\n",
    "    model.train()\n",
    "    losses = 0\n",
    "\n",
    "    for src in tqdm(train_dataloader, leave=False):\n",
    "        src = src.to(device)\n",
    "\n",
    "        src_mask, src_padding_mask = create_masks(src, pad_idx=train_dataloader.dataset.pad_id, device=device)\n",
    "\n",
    "        logits = model.forward(input_ids=src, attention_mask=src_padding_mask).logits[:, :-1, :]\n",
    "\n",
    "        src_out = src[:, 1:]\n",
    "\n",
    "        optimizer.zero_grad()\n",
    "        \n",
    "        loss = loss_fn(logits.reshape(-1, logits.shape[-1]), src_out.reshape(-1))\n",
    "        loss.backward()\n",
    "\n",
    "        optimizer.step()\n",
    "        losses += loss.item()\n",
    "\n",
    "    return losses / len(train_dataloader)\n",
    "\n",
    "\n",
    "def evaluate(model: Phi3ForCausalLM, loss_fn, val_dataloader, device, k=3):\n",
    "    model.eval()\n",
    "    losses = 0\n",
    "\n",
    "    for src in tqdm(val_dataloader, leave=False):\n",
    "        src = src.to(device)\n",
    "        src_mask, src_padding_mask = create_masks(src, pad_idx=val_dataloader.dataset.pad_id, device=device)\n",
    "\n",
    "        logits = model.forward(input_ids=src, attention_mask=src_padding_mask).logits[:, :-1, :]\n",
    "\n",
    "        src_out = src[:, 1:]\n",
    "        loss = loss_fn(logits.reshape(-1, logits.shape[-1]), src_out.reshape(-1))\n",
    "        losses += loss.item()\n",
    "\n",
    "    acc, hitrate = calc_accuracy_and_hitrate_at_k(model, val_dataloader, device, k)\n",
    "\n",
    "    return losses / len(val_dataloader), acc, hitrate"
   ]
  },
  {
   "cell_type": "code",
   "execution_count": 6,
   "metadata": {},
   "outputs": [],
   "source": [
    "import torch.nn as nn\n",
    "from torch.utils.data import DataLoader\n",
    "from timeit import default_timer as timer\n",
    "from transformers import Phi3Config, Phi3ForCausalLM\n",
    "\n",
    "NUM_EPOCHS = 40\n",
    "BATCH_SIZE = 64\n",
    "\n",
    "\n",
    "\n",
    "\n",
    "config = Phi3Config(\n",
    "    vocab_size=train_dataset.vocab_size,\n",
    "    hidden_size=256,\n",
    "    intermediate_size=1024,\n",
    "    num_hidden_layers=2,\n",
    "    num_attention_heads=4,\n",
    "    original_max_position_embeddings=512,\n",
    "    resid_pdrop=0.1,\n",
    "    embd_pdrop=0.1,\n",
    "    attention_dropout=0.1,\n",
    "    max_position_embeddings=512,\n",
    "    pad_token_id=train_dataset.pad_id,\n",
    "    bos_token_id=train_dataset.bos_id,\n",
    "    eos_token_id=train_dataset.eos_id,\n",
    "    use_cache=False,\n",
    ")\n",
    "\n",
    "model = Phi3ForCausalLM(config)\n",
    "\n",
    "torch.manual_seed(42)\n",
    "\n",
    "device = torch.device('cuda:0' if torch.cuda.is_available() else 'cpu')\n",
    "\n",
    "transformer = model.to(device)\n",
    "\n",
    "for p in model.parameters():\n",
    "    if p.dim() > 1:\n",
    "        nn.init.xavier_uniform_(p)\n",
    "\n",
    "\n",
    "loss_fn = torch.nn.CrossEntropyLoss(ignore_index=train_dataset.pad_id, label_smoothing=0.07)\n",
    "\n",
    "optimizer = torch.optim.AdamW(transformer.parameters(), lr=0.001, betas=(0.9, 0.98), eps=1e-9, weight_decay=0.01)\n",
    "train_loader = DataLoader(train_dataset, batch_size=BATCH_SIZE, shuffle=True, num_workers=1, pin_memory=True)\n",
    "val_loader = DataLoader(val_dataset, batch_size=BATCH_SIZE, shuffle=False, num_workers=1, pin_memory=True)\n",
    "test_loader = DataLoader(test_dataset, batch_size=BATCH_SIZE, shuffle=False, num_workers=1, pin_memory=True)\n",
    "k = 3\n",
    "\n",
    "for epoch in range(1, NUM_EPOCHS+1):\n",
    "    start_time = timer()\n",
    "    train_loss = train_epoch(transformer, optimizer, loss_fn, train_loader, device)\n",
    "    end_time = timer()\n",
    "    val_loss, val_acc, val_hitrate = evaluate(transformer, loss_fn, val_loader, device, k=k)\n",
    "    print((f\"Epoch: {epoch}, Train loss: {train_loss:.3f}, Val loss: {val_loss:.3f}, Val ACC: {val_acc:.3f}, Val hitrate@{k}: {val_hitrate:.3f}, \"f\"Epoch time = {(end_time - start_time):.3f}s\"))"
   ]
  },
  {
   "cell_type": "code",
   "execution_count": 7,
   "metadata": {},
   "outputs": [],
   "source": [
    "transformer.sa"
   ]
  },
  {
   "cell_type": "code",
   "execution_count": 8,
   "metadata": {},
   "outputs": [
    {
     "data": {
      "application/vnd.jupyter.widget-view+json": {
       "model_id": "488d22d4a98d44b7a4b1221257390f18",
       "version_major": 2,
       "version_minor": 0
      },
      "text/plain": [
       "  0%|          | 0/229 [00:00<?, ?it/s]"
      ]
     },
     "metadata": {},
     "output_type": "display_data"
    },
    {
     "data": {
      "text/plain": [
       "(0.7374354004859924, 0.9549716114997864)"
      ]
     },
     "execution_count": 8,
     "metadata": {},
     "output_type": "execute_result"
    }
   ],
   "source": [
    "calc_accuracy_and_hitrate_at_k(transformer, test_loader, device, 5)"
   ]
  },
  {
   "cell_type": "code",
   "execution_count": 18,
   "metadata": {},
   "outputs": [
    {
     "data": {
      "text/plain": [
       "4849895"
      ]
     },
     "execution_count": 18,
     "metadata": {},
     "output_type": "execute_result"
    }
   ],
   "source": [
    "sum(p.numel() for p in transformer.parameters())"
   ]
  },
  {
   "cell_type": "code",
   "execution_count": 13,
   "metadata": {},
   "outputs": [
    {
     "name": "stdout",
     "output_type": "stream",
     "text": [
      "tensor([[ True, False, False],\n",
      "        [ True, False, False],\n",
      "        [False, False, False],\n",
      "        [False, False, False],\n",
      "        [ True, False, False],\n",
      "        [ True, False, False],\n",
      "        [ True, False, False],\n",
      "        [False, False, False],\n",
      "        [ True, False, False],\n",
      "        [ True, False, False],\n",
      "        [ True, False, False],\n",
      "        [False,  True, False],\n",
      "        [ True, False, False],\n",
      "        [ True, False, False],\n",
      "        [False,  True, False],\n",
      "        [False,  True, False],\n",
      "        [ True, False, False],\n",
      "        [ True, False, False],\n",
      "        [ True, False, False],\n",
      "        [ True, False, False],\n",
      "        [False,  True, False],\n",
      "        [ True, False, False],\n",
      "        [ True, False, False],\n",
      "        [False,  True, False]], device='cuda:0')\n"
     ]
    }
   ],
   "source": [
    "train_loader = DataLoader(train_dataset, batch_size=2, shuffle=True, num_workers=4, pin_memory=True)\n",
    "device = torch.device('cuda:0' if torch.cuda.is_available() else 'cpu')\n",
    "total_seq_len_in_dataloader = 0\n",
    "total_correct_predictions = 0\n",
    "for batch in train_loader:\n",
    "    src_mask, src_pad_mask = (create_masks(batch, pad_idx=0, device=device))\n",
    "    src_mask = src_mask.to(device)\n",
    "    src_pad_mask = src_pad_mask.to(device)\n",
    "    batch = batch.to(device)\n",
    "    is_bos = (batch == train_loader.dataset.bos_id)\n",
    "\n",
    "    labels = batch[:, 1:]\n",
    "    labels_pad_mask = (labels == 0)\n",
    "    labels_without_pad = labels[~labels_pad_mask]\n",
    "    logits_without_last = transformer(batch, src_mask, src_pad_mask)[:, :-1, :]\n",
    "    predictions = logits_without_last.argmax(dim=-1)\n",
    "\n",
    "    predictions_3 = torch.argsort(logits_without_last, dim=-1, descending=True)[:, :, :3][~labels_pad_mask]\n",
    "\n",
    "    print(predictions_3 == labels_without_pad.unsqueeze(1))\n",
    "\n",
    "    # predictions_without_pad = predictions[~labels_pad_mask]\n",
    "\n",
    "    # total_seq_len_in_batch = labels_without_pad.shape[0]\n",
    "    # total_predicions_len = predictions_without_pad.shape[0]\n",
    "\n",
    "    # assert total_seq_len_in_batch == total_predicions_len\n",
    "\n",
    "    # total_seq_len_in_dataloader += total_seq_len_in_batch\n",
    "\n",
    "    # correct_predictions = (labels_without_pad == predictions_without_pad).float().sum()\n",
    "\n",
    "    # total_correct_predictions += correct_predictions\n",
    "\n",
    "    # print(total_correct_predictions)\n",
    "    # print(total_seq_len_in_batch)\n",
    "\n",
    "    \n",
    "    break\n",
    "    "
   ]
  },
  {
   "cell_type": "code",
   "execution_count": 18,
   "metadata": {},
   "outputs": [],
   "source": [
    "def compute_accuracy(logits: torch.Tensor, labels: torch.Tensor) -> float:\n",
    "    \"\"\"\n",
    "    Compute the accuracy of predictions for an RNN language model.\n",
    "    \n",
    "    :param logits: Logits output by the model of shape [batch_size, sequence_length, vocab_size]\n",
    "    :param labels: Ground truth labels of shape [batch_size, sequence_length]\n",
    "    :return: Accuracy as a float\n",
    "    \"\"\"\n",
    "    # Find the argmax of the logits along the last dimension to get the most likely token indices\n",
    "    predictions = logits.argmax(dim=-1)\n",
    "    \n",
    "    # Compute the number of correct predictions\n",
    "    correct_predictions = (predictions == labels).float().sum()\n",
    "    \n",
    "    # Calculate the accuracy\n",
    "    accuracy = correct_predictions / labels.numel()\n",
    "    \n",
    "    return accuracy.item()\n",
    "\n",
    "def calc_accuracy(model, loader) -> float:\n",
    "    with torch.no_grad():\n",
    "        model.eval()\n",
    "        for indices, lengths in tqdm(loader, desc=tqdm_desc):\n",
    "            optimizer.zero_grad()\n",
    "            indices = indices[:, :lengths.max()].to(device)\n",
    "            logits = model(indices[:, :-1], lengths - 1)\n",
    "            loss = criterion(logits.transpose(1, 2), indices[:, 1:])\n",
    "            loss.backward()\n",
    "            optimizer.step()\n",
    "        \n",
    "            train_acc += compute_accuracy(logits, indices[:, 1:]) * indices.shape[0]\n",
    "        \n",
    "            train_loss += loss.item() * indices.shape[0]\n",
    "        \n",
    "        train_loss /= len(loader.dataset)\n",
    "        train_acc = train_acc / len(loader.dataset)\n",
    "        return train_loss, train_acc"
   ]
  },
  {
   "cell_type": "code",
   "execution_count": null,
   "metadata": {},
   "outputs": [],
   "source": []
  }
 ],
 "metadata": {
  "kernelspec": {
   "display_name": "Python 3 (ipykernel)",
   "language": "python",
   "name": "python3"
  },
  "language_info": {
   "codemirror_mode": {
    "name": "ipython",
    "version": 3
   },
   "file_extension": ".py",
   "mimetype": "text/x-python",
   "name": "python",
   "nbconvert_exporter": "python",
   "pygments_lexer": "ipython3",
   "version": "3.10.8"
  }
 },
 "nbformat": 4,
 "nbformat_minor": 4
}
