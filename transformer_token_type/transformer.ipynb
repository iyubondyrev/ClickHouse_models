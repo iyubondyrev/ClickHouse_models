{
 "cells": [
  {
   "cell_type": "code",
   "execution_count": 1,
   "metadata": {},
   "outputs": [],
   "source": [
    "from torch import Tensor\n",
    "import torch\n",
    "import torch.nn as nn\n",
    "from torch.nn import TransformerEncoder, TransformerEncoderLayer\n",
    "from numpy import sqrt, log\n",
    "\n",
    "class PositionalEncoding(nn.Module):\n",
    "    def __init__(self,\n",
    "                 emb_size: int,\n",
    "                 dropout: float,\n",
    "                 maxlen: int = 5000):\n",
    "        super(PositionalEncoding, self).__init__()\n",
    "        den = torch.exp(- torch.arange(0, emb_size, 2)* log(10000) / emb_size)\n",
    "        pos = torch.arange(0, maxlen).reshape(maxlen, 1)\n",
    "        pos_embedding = torch.zeros((maxlen, emb_size))\n",
    "        pos_embedding[:, 0::2] = torch.sin(pos * den)\n",
    "        pos_embedding[:, 1::2] = torch.cos(pos * den)\n",
    "        pos_embedding = pos_embedding.unsqueeze(-2)\n",
    "\n",
    "        self.dropout = nn.Dropout(dropout)\n",
    "        self.register_buffer('pos_embedding', pos_embedding)\n",
    "\n",
    "    def forward(self, token_embedding: Tensor):\n",
    "        return self.dropout(token_embedding + self.pos_embedding[:token_embedding.size(0), :])\n",
    "\n",
    "class TokenEmbedding(nn.Module):\n",
    "    def __init__(self, vocab_size: int, emb_size):\n",
    "        super(TokenEmbedding, self).__init__()\n",
    "        self.embedding = nn.Embedding(vocab_size, emb_size)\n",
    "        self.emb_size = emb_size\n",
    "\n",
    "    def forward(self, tokens: Tensor):\n",
    "        return self.embedding(tokens.long()) * sqrt(self.emb_size)\n"
   ]
  },
  {
   "cell_type": "code",
   "execution_count": 2,
   "metadata": {},
   "outputs": [],
   "source": [
    "class TokenTypeTransformer(nn.Module):\n",
    "    def __init__(self,\n",
    "                 num_layers: int,\n",
    "                 emb_size: int,\n",
    "                 nhead: int,\n",
    "                 vocab_size: int,\n",
    "                 dim_feedforward: int = 512,\n",
    "                 dropout: float = 0.1):\n",
    "        super(TokenTypeTransformer, self).__init__()\n",
    "        encoder_layer = TransformerEncoderLayer(d_model=emb_size,\n",
    "                                                nhead=nhead,\n",
    "                                                dim_feedforward=dim_feedforward,\n",
    "                                                dropout=dropout,\n",
    "                                                batch_first=True\n",
    "                                                )\n",
    "        self.transformer: TransformerEncoder = TransformerEncoder(encoder_layer=encoder_layer,\n",
    "                                              num_layers=num_layers)\n",
    "        self.generator = nn.Linear(emb_size, vocab_size)\n",
    "        self.tok_emb = TokenEmbedding(vocab_size, emb_size)\n",
    "        self.positional_encoding = PositionalEncoding(\n",
    "            emb_size, dropout=dropout)\n",
    "    \n",
    "\n",
    "    def forward(self,\n",
    "                src: Tensor,\n",
    "                src_mask: Tensor = None,\n",
    "                src_padding_mask: Tensor = None,\n",
    "                is_causal: bool = None):\n",
    "        src_emb = self.positional_encoding(self.tok_emb(src))\n",
    "        outs = self.transformer(src=src_emb, mask=src_mask, src_key_padding_mask=src_padding_mask, is_causal=is_causal)\n",
    "        return self.generator(outs)"
   ]
  },
  {
   "cell_type": "code",
   "execution_count": 3,
   "metadata": {},
   "outputs": [],
   "source": [
    "from dataset import TokenTypesDataset\n",
    "\n",
    "\n",
    "train_dataset = TokenTypesDataset(folder=\"/root/ClickHouse_models/tokentype_keywordasitis_data/train\")\n",
    "val_dataset = TokenTypesDataset(folder=\"/root/ClickHouse_models/tokentype_keywordasitis_data/validation\", train=False, vocabs=(train_dataset.token2idx, train_dataset.idx2token), max_length=train_dataset.max_length)\n",
    "test_dataset = TokenTypesDataset(folder=\"/root/ClickHouse_models/tokentype_keywordasitis_data/test\", train=False, vocabs=(train_dataset.token2idx, train_dataset.idx2token), max_length=train_dataset.max_length)\n",
    "assert val_dataset.vocab_size == train_dataset.vocab_size == test_dataset.vocab_size\n",
    "assert val_dataset.max_length == train_dataset.max_length == test_dataset.max_length\n"
   ]
  },
  {
   "cell_type": "code",
   "execution_count": 4,
   "metadata": {},
   "outputs": [],
   "source": [
    "def generate_square_subsequent_mask(sz, device):\n",
    "    mask = (torch.triu(torch.ones((sz, sz), device=device)) == 1).transpose(0, 1)\n",
    "    mask = mask.float().masked_fill(mask == 0, float('-inf')).masked_fill(mask == 1, float(0.0))\n",
    "    return mask\n",
    "\n",
    "\n",
    "def create_masks(src, pad_idx, device):\n",
    "    src_seq_len = src.shape[1]\n",
    "\n",
    "    src_mask = generate_square_subsequent_mask(src_seq_len, device=device)\n",
    "\n",
    "    src_padding_mask = (src == pad_idx)\n",
    "    return src_mask, src_padding_mask"
   ]
  },
  {
   "cell_type": "code",
   "execution_count": 5,
   "metadata": {},
   "outputs": [],
   "source": [
    "from torch.utils.data import DataLoader\n",
    "from tqdm.notebook import tqdm\n",
    "\n",
    "def calc_accuracy_and_hitrate_at_k(model, loader, device, k=3):\n",
    "    \n",
    "    total_seq_len_in_dataloader = 0\n",
    "    total_correct_predictions = 0\n",
    "    total_hits_in_loader = 0\n",
    "    \n",
    "    for batch in tqdm(loader):\n",
    "        src_mask, src_pad_mask = (create_masks(batch, pad_idx=loader.dataset.pad_id, device=device))\n",
    "        src_mask = src_mask.to(device)\n",
    "        src_pad_mask = src_pad_mask.to(device)\n",
    "        batch = batch.to(device)\n",
    "    \n",
    "        labels = batch[:, 1:]\n",
    "        labels_pad_mask = (labels == 0)\n",
    "        labels_without_pad = labels[~labels_pad_mask]\n",
    "        logits_without_last = transformer(batch, src_mask, src_pad_mask)[:, :-1, :]\n",
    "        predictions = logits_without_last.argmax(dim=-1)\n",
    "        predictions_without_pad = predictions[~labels_pad_mask]\n",
    "\n",
    "        top_k_predictions = torch.argsort(logits_without_last, dim=-1, descending=True)[:, :, :k][~labels_pad_mask]\n",
    "\n",
    "    \n",
    "        total_seq_len_in_batch = labels_without_pad.shape[0]\n",
    "        total_predicions_len = predictions_without_pad.shape[0]\n",
    "    \n",
    "        assert total_seq_len_in_batch == total_predicions_len\n",
    "    \n",
    "        total_seq_len_in_dataloader += total_seq_len_in_batch\n",
    "    \n",
    "        correct_predictions = (labels_without_pad == predictions_without_pad).float().sum()\n",
    "\n",
    "        total_hits_in_batch = (top_k_predictions == labels_without_pad.unsqueeze(1)).any(dim=1).float().sum()\n",
    "        \n",
    "        total_hits_in_loader += total_hits_in_batch\n",
    "        total_correct_predictions += correct_predictions\n",
    "    \n",
    "    return (total_correct_predictions / total_seq_len_in_dataloader).item(), (total_hits_in_loader / total_seq_len_in_dataloader).item()\n",
    "\n",
    "def train_epoch(model: TokenTypeTransformer, optimizer, loss_fn, train_dataloader: DataLoader, device):\n",
    "    model.train()\n",
    "    losses = 0\n",
    "\n",
    "    for src in tqdm(train_dataloader, leave=False):\n",
    "        src = src.to(device)\n",
    "\n",
    "        src_mask, src_padding_mask = create_masks(src, pad_idx=train_dataloader.dataset.pad_id, device=device)\n",
    "\n",
    "        logits = model.forward(src, src_mask, src_padding_mask, is_causal=True)[:, :-1, :]\n",
    "\n",
    "        src_out = src[:, 1:]\n",
    "\n",
    "        optimizer.zero_grad()\n",
    "        \n",
    "        loss = loss_fn(logits.reshape(-1, logits.shape[-1]), src_out.reshape(-1))\n",
    "        loss.backward()\n",
    "\n",
    "        optimizer.step()\n",
    "        losses += loss.item()\n",
    "\n",
    "    return losses / len(train_dataloader)\n",
    "\n",
    "\n",
    "def evaluate(model, loss_fn, val_dataloader, device, k=3):\n",
    "    model.eval()\n",
    "    losses = 0\n",
    "\n",
    "    for src in tqdm(val_dataloader, leave=False):\n",
    "        src = src.to(device)\n",
    "        src_mask, src_padding_mask = create_masks(src, pad_idx=val_dataloader.dataset.pad_id, device=device)\n",
    "\n",
    "        logits = model.forward(src, src_mask, src_padding_mask, is_causal=True)[:, :-1, :]\n",
    "\n",
    "        src_out = src[:, 1:]\n",
    "        loss = loss_fn(logits.reshape(-1, logits.shape[-1]), src_out.reshape(-1))\n",
    "        losses += loss.item()\n",
    "\n",
    "    acc, hitrate = calc_accuracy_and_hitrate_at_k(model, val_dataloader, device, k)\n",
    "\n",
    "    return losses / len(val_dataloader), acc, hitrate"
   ]
  },
  {
   "cell_type": "code",
   "execution_count": 6,
   "metadata": {},
   "outputs": [
    {
     "data": {
      "application/vnd.jupyter.widget-view+json": {
       "model_id": "",
       "version_major": 2,
       "version_minor": 0
      },
      "text/plain": [
       "  0%|          | 0/921 [00:00<?, ?it/s]"
      ]
     },
     "metadata": {},
     "output_type": "display_data"
    },
    {
     "name": "stderr",
     "output_type": "stream",
     "text": [
      "/opt/conda/lib/python3.10/site-packages/torch/nn/functional.py:5109: UserWarning: Support for mismatched src_key_padding_mask and mask is deprecated. Use same type for both instead.\n",
      "  warnings.warn(\n"
     ]
    },
    {
     "data": {
      "application/vnd.jupyter.widget-view+json": {
       "model_id": "",
       "version_major": 2,
       "version_minor": 0
      },
      "text/plain": [
       "  0%|          | 0/138 [00:00<?, ?it/s]"
      ]
     },
     "metadata": {},
     "output_type": "display_data"
    },
    {
     "data": {
      "application/vnd.jupyter.widget-view+json": {
       "model_id": "1fd1a4d98935488d9be76871c8186d84",
       "version_major": 2,
       "version_minor": 0
      },
      "text/plain": [
       "  0%|          | 0/138 [00:00<?, ?it/s]"
      ]
     },
     "metadata": {},
     "output_type": "display_data"
    },
    {
     "name": "stdout",
     "output_type": "stream",
     "text": [
      "Epoch: 1, Train loss: 1.540, Val loss: 1.445, Val ACC: 0.743, Val hitrate@3: 0.922, Epoch time = 71.371s\n"
     ]
    },
    {
     "data": {
      "application/vnd.jupyter.widget-view+json": {
       "model_id": "",
       "version_major": 2,
       "version_minor": 0
      },
      "text/plain": [
       "  0%|          | 0/921 [00:00<?, ?it/s]"
      ]
     },
     "metadata": {},
     "output_type": "display_data"
    },
    {
     "data": {
      "application/vnd.jupyter.widget-view+json": {
       "model_id": "",
       "version_major": 2,
       "version_minor": 0
      },
      "text/plain": [
       "  0%|          | 0/138 [00:00<?, ?it/s]"
      ]
     },
     "metadata": {},
     "output_type": "display_data"
    },
    {
     "data": {
      "application/vnd.jupyter.widget-view+json": {
       "model_id": "e46a8a1cc1e24771b64df270f8dcf0f1",
       "version_major": 2,
       "version_minor": 0
      },
      "text/plain": [
       "  0%|          | 0/138 [00:00<?, ?it/s]"
      ]
     },
     "metadata": {},
     "output_type": "display_data"
    },
    {
     "name": "stdout",
     "output_type": "stream",
     "text": [
      "Epoch: 2, Train loss: 1.435, Val loss: 1.422, Val ACC: 0.748, Val hitrate@3: 0.924, Epoch time = 71.033s\n"
     ]
    },
    {
     "data": {
      "application/vnd.jupyter.widget-view+json": {
       "model_id": "",
       "version_major": 2,
       "version_minor": 0
      },
      "text/plain": [
       "  0%|          | 0/921 [00:00<?, ?it/s]"
      ]
     },
     "metadata": {},
     "output_type": "display_data"
    },
    {
     "data": {
      "application/vnd.jupyter.widget-view+json": {
       "model_id": "",
       "version_major": 2,
       "version_minor": 0
      },
      "text/plain": [
       "  0%|          | 0/138 [00:00<?, ?it/s]"
      ]
     },
     "metadata": {},
     "output_type": "display_data"
    },
    {
     "data": {
      "application/vnd.jupyter.widget-view+json": {
       "model_id": "e3c0df657208418b9b211d7c1768e438",
       "version_major": 2,
       "version_minor": 0
      },
      "text/plain": [
       "  0%|          | 0/138 [00:00<?, ?it/s]"
      ]
     },
     "metadata": {},
     "output_type": "display_data"
    },
    {
     "name": "stdout",
     "output_type": "stream",
     "text": [
      "Epoch: 3, Train loss: 1.414, Val loss: 1.411, Val ACC: 0.753, Val hitrate@3: 0.927, Epoch time = 71.044s\n"
     ]
    },
    {
     "data": {
      "application/vnd.jupyter.widget-view+json": {
       "model_id": "",
       "version_major": 2,
       "version_minor": 0
      },
      "text/plain": [
       "  0%|          | 0/921 [00:00<?, ?it/s]"
      ]
     },
     "metadata": {},
     "output_type": "display_data"
    },
    {
     "data": {
      "application/vnd.jupyter.widget-view+json": {
       "model_id": "",
       "version_major": 2,
       "version_minor": 0
      },
      "text/plain": [
       "  0%|          | 0/138 [00:00<?, ?it/s]"
      ]
     },
     "metadata": {},
     "output_type": "display_data"
    },
    {
     "data": {
      "application/vnd.jupyter.widget-view+json": {
       "model_id": "509fbf406c3e4b8da77c6ab6c6ad574e",
       "version_major": 2,
       "version_minor": 0
      },
      "text/plain": [
       "  0%|          | 0/138 [00:00<?, ?it/s]"
      ]
     },
     "metadata": {},
     "output_type": "display_data"
    },
    {
     "name": "stdout",
     "output_type": "stream",
     "text": [
      "Epoch: 4, Train loss: 1.403, Val loss: 1.401, Val ACC: 0.755, Val hitrate@3: 0.928, Epoch time = 71.057s\n"
     ]
    },
    {
     "data": {
      "application/vnd.jupyter.widget-view+json": {
       "model_id": "",
       "version_major": 2,
       "version_minor": 0
      },
      "text/plain": [
       "  0%|          | 0/921 [00:00<?, ?it/s]"
      ]
     },
     "metadata": {},
     "output_type": "display_data"
    },
    {
     "data": {
      "application/vnd.jupyter.widget-view+json": {
       "model_id": "",
       "version_major": 2,
       "version_minor": 0
      },
      "text/plain": [
       "  0%|          | 0/138 [00:00<?, ?it/s]"
      ]
     },
     "metadata": {},
     "output_type": "display_data"
    },
    {
     "data": {
      "application/vnd.jupyter.widget-view+json": {
       "model_id": "929aa6b9d39a45c6a4b75e9f314690b9",
       "version_major": 2,
       "version_minor": 0
      },
      "text/plain": [
       "  0%|          | 0/138 [00:00<?, ?it/s]"
      ]
     },
     "metadata": {},
     "output_type": "display_data"
    },
    {
     "name": "stdout",
     "output_type": "stream",
     "text": [
      "Epoch: 5, Train loss: 1.394, Val loss: 1.396, Val ACC: 0.754, Val hitrate@3: 0.930, Epoch time = 71.064s\n"
     ]
    },
    {
     "data": {
      "application/vnd.jupyter.widget-view+json": {
       "model_id": "05a585b5e43a43dc9ed0f3bf29c77168",
       "version_major": 2,
       "version_minor": 0
      },
      "text/plain": [
       "  0%|          | 0/921 [00:00<?, ?it/s]"
      ]
     },
     "metadata": {},
     "output_type": "display_data"
    },
    {
     "ename": "KeyboardInterrupt",
     "evalue": "",
     "output_type": "error",
     "traceback": [
      "\u001b[0;31m---------------------------------------------------------------------------\u001b[0m",
      "\u001b[0;31mKeyboardInterrupt\u001b[0m                         Traceback (most recent call last)",
      "Cell \u001b[0;32mIn[6], line 37\u001b[0m\n\u001b[1;32m     35\u001b[0m \u001b[38;5;28;01mfor\u001b[39;00m epoch \u001b[38;5;129;01min\u001b[39;00m \u001b[38;5;28mrange\u001b[39m(\u001b[38;5;241m1\u001b[39m, NUM_EPOCHS\u001b[38;5;241m+\u001b[39m\u001b[38;5;241m1\u001b[39m):\n\u001b[1;32m     36\u001b[0m     start_time \u001b[38;5;241m=\u001b[39m timer()\n\u001b[0;32m---> 37\u001b[0m     train_loss \u001b[38;5;241m=\u001b[39m \u001b[43mtrain_epoch\u001b[49m\u001b[43m(\u001b[49m\u001b[43mtransformer\u001b[49m\u001b[43m,\u001b[49m\u001b[43m \u001b[49m\u001b[43moptimizer\u001b[49m\u001b[43m,\u001b[49m\u001b[43m \u001b[49m\u001b[43mloss_fn\u001b[49m\u001b[43m,\u001b[49m\u001b[43m \u001b[49m\u001b[43mtrain_loader\u001b[49m\u001b[43m,\u001b[49m\u001b[43m \u001b[49m\u001b[43mdevice\u001b[49m\u001b[43m)\u001b[49m\n\u001b[1;32m     38\u001b[0m     end_time \u001b[38;5;241m=\u001b[39m timer()\n\u001b[1;32m     39\u001b[0m     val_loss, val_acc, val_hitrate \u001b[38;5;241m=\u001b[39m evaluate(transformer, loss_fn, val_loader, device, k\u001b[38;5;241m=\u001b[39mk)\n",
      "Cell \u001b[0;32mIn[5], line 61\u001b[0m, in \u001b[0;36mtrain_epoch\u001b[0;34m(model, optimizer, loss_fn, train_dataloader, device)\u001b[0m\n\u001b[1;32m     58\u001b[0m     loss\u001b[38;5;241m.\u001b[39mbackward()\n\u001b[1;32m     60\u001b[0m     optimizer\u001b[38;5;241m.\u001b[39mstep()\n\u001b[0;32m---> 61\u001b[0m     losses \u001b[38;5;241m+\u001b[39m\u001b[38;5;241m=\u001b[39m \u001b[43mloss\u001b[49m\u001b[38;5;241;43m.\u001b[39;49m\u001b[43mitem\u001b[49m\u001b[43m(\u001b[49m\u001b[43m)\u001b[49m\n\u001b[1;32m     63\u001b[0m \u001b[38;5;28;01mreturn\u001b[39;00m losses \u001b[38;5;241m/\u001b[39m \u001b[38;5;28mlen\u001b[39m(train_dataloader)\n",
      "\u001b[0;31mKeyboardInterrupt\u001b[0m: "
     ]
    }
   ],
   "source": [
    "import torch.nn as nn\n",
    "from torch.utils.data import DataLoader\n",
    "from timeit import default_timer as timer\n",
    "\n",
    "NUM_EPOCHS = 40\n",
    "BATCH_SIZE = 64\n",
    "\n",
    "torch.manual_seed(42)\n",
    "\n",
    "device = torch.device('cuda:0' if torch.cuda.is_available() else 'cpu')\n",
    "\n",
    "model = TokenTypeTransformer(\n",
    "                            num_layers=2,\n",
    "                            emb_size=256,\n",
    "                            nhead=4,\n",
    "                            vocab_size=train_dataset.vocab_size,\n",
    "                            dropout=0.15,\n",
    "                            dim_feedforward=1024\n",
    "                            )\n",
    "\n",
    "for p in model.parameters():\n",
    "    if p.dim() > 1:\n",
    "        nn.init.xavier_uniform_(p)\n",
    "\n",
    "transformer = model.to(device)\n",
    "\n",
    "loss_fn = torch.nn.CrossEntropyLoss(ignore_index=train_dataset.pad_id, label_smoothing=0.07)\n",
    "\n",
    "optimizer = torch.optim.AdamW(transformer.parameters(), lr=0.001, betas=(0.9, 0.98), eps=1e-9, weight_decay=0.01)\n",
    "train_loader = DataLoader(train_dataset, batch_size=BATCH_SIZE, shuffle=True, num_workers=1, pin_memory=True)\n",
    "val_loader = DataLoader(val_dataset, batch_size=BATCH_SIZE, shuffle=False, num_workers=1, pin_memory=True)\n",
    "test_loader = DataLoader(test_dataset, batch_size=BATCH_SIZE, shuffle=False, num_workers=1, pin_memory=True)\n",
    "k = 3\n",
    "\n",
    "for epoch in range(1, NUM_EPOCHS+1):\n",
    "    start_time = timer()\n",
    "    train_loss = train_epoch(transformer, optimizer, loss_fn, train_loader, device)\n",
    "    end_time = timer()\n",
    "    val_loss, val_acc, val_hitrate = evaluate(transformer, loss_fn, val_loader, device, k=k)\n",
    "    print((f\"Epoch: {epoch}, Train loss: {train_loss:.3f}, Val loss: {val_loss:.3f}, Val ACC: {val_acc:.3f}, Val hitrate@{k}: {val_hitrate:.3f}, \"f\"Epoch time = {(end_time - start_time):.3f}s\"))"
   ]
  },
  {
   "cell_type": "code",
   "execution_count": 7,
   "metadata": {},
   "outputs": [],
   "source": [
    "torch.save(transformer.state_dict(), \"lol.pth\")"
   ]
  },
  {
   "cell_type": "code",
   "execution_count": 8,
   "metadata": {},
   "outputs": [
    {
     "data": {
      "application/vnd.jupyter.widget-view+json": {
       "model_id": "488d22d4a98d44b7a4b1221257390f18",
       "version_major": 2,
       "version_minor": 0
      },
      "text/plain": [
       "  0%|          | 0/229 [00:00<?, ?it/s]"
      ]
     },
     "metadata": {},
     "output_type": "display_data"
    },
    {
     "data": {
      "text/plain": [
       "(0.7374354004859924, 0.9549716114997864)"
      ]
     },
     "execution_count": 8,
     "metadata": {},
     "output_type": "execute_result"
    }
   ],
   "source": [
    "calc_accuracy_and_hitrate_at_k(transformer, test_loader, device, 5)"
   ]
  },
  {
   "cell_type": "code",
   "execution_count": 18,
   "metadata": {},
   "outputs": [
    {
     "data": {
      "text/plain": [
       "4849895"
      ]
     },
     "execution_count": 18,
     "metadata": {},
     "output_type": "execute_result"
    }
   ],
   "source": [
    "sum(p.numel() for p in transformer.parameters())"
   ]
  },
  {
   "cell_type": "code",
   "execution_count": 13,
   "metadata": {},
   "outputs": [
    {
     "name": "stdout",
     "output_type": "stream",
     "text": [
      "tensor([[ True, False, False],\n",
      "        [ True, False, False],\n",
      "        [False, False, False],\n",
      "        [False, False, False],\n",
      "        [ True, False, False],\n",
      "        [ True, False, False],\n",
      "        [ True, False, False],\n",
      "        [False, False, False],\n",
      "        [ True, False, False],\n",
      "        [ True, False, False],\n",
      "        [ True, False, False],\n",
      "        [False,  True, False],\n",
      "        [ True, False, False],\n",
      "        [ True, False, False],\n",
      "        [False,  True, False],\n",
      "        [False,  True, False],\n",
      "        [ True, False, False],\n",
      "        [ True, False, False],\n",
      "        [ True, False, False],\n",
      "        [ True, False, False],\n",
      "        [False,  True, False],\n",
      "        [ True, False, False],\n",
      "        [ True, False, False],\n",
      "        [False,  True, False]], device='cuda:0')\n"
     ]
    }
   ],
   "source": [
    "train_loader = DataLoader(train_dataset, batch_size=2, shuffle=True, num_workers=4, pin_memory=True)\n",
    "device = torch.device('cuda:0' if torch.cuda.is_available() else 'cpu')\n",
    "total_seq_len_in_dataloader = 0\n",
    "total_correct_predictions = 0\n",
    "for batch in train_loader:\n",
    "    src_mask, src_pad_mask = (create_masks(batch, pad_idx=0, device=device))\n",
    "    src_mask = src_mask.to(device)\n",
    "    src_pad_mask = src_pad_mask.to(device)\n",
    "    batch = batch.to(device)\n",
    "    is_bos = (batch == train_loader.dataset.bos_id)\n",
    "\n",
    "    labels = batch[:, 1:]\n",
    "    labels_pad_mask = (labels == 0)\n",
    "    labels_without_pad = labels[~labels_pad_mask]\n",
    "    logits_without_last = transformer(batch, src_mask, src_pad_mask)[:, :-1, :]\n",
    "    predictions = logits_without_last.argmax(dim=-1)\n",
    "\n",
    "    predictions_3 = torch.argsort(logits_without_last, dim=-1, descending=True)[:, :, :3][~labels_pad_mask]\n",
    "\n",
    "    print(predictions_3 == labels_without_pad.unsqueeze(1))\n",
    "\n",
    "    # predictions_without_pad = predictions[~labels_pad_mask]\n",
    "\n",
    "    # total_seq_len_in_batch = labels_without_pad.shape[0]\n",
    "    # total_predicions_len = predictions_without_pad.shape[0]\n",
    "\n",
    "    # assert total_seq_len_in_batch == total_predicions_len\n",
    "\n",
    "    # total_seq_len_in_dataloader += total_seq_len_in_batch\n",
    "\n",
    "    # correct_predictions = (labels_without_pad == predictions_without_pad).float().sum()\n",
    "\n",
    "    # total_correct_predictions += correct_predictions\n",
    "\n",
    "    # print(total_correct_predictions)\n",
    "    # print(total_seq_len_in_batch)\n",
    "\n",
    "    \n",
    "    break\n",
    "    "
   ]
  },
  {
   "cell_type": "code",
   "execution_count": 18,
   "metadata": {},
   "outputs": [],
   "source": [
    "def compute_accuracy(logits: torch.Tensor, labels: torch.Tensor) -> float:\n",
    "    \"\"\"\n",
    "    Compute the accuracy of predictions for an RNN language model.\n",
    "    \n",
    "    :param logits: Logits output by the model of shape [batch_size, sequence_length, vocab_size]\n",
    "    :param labels: Ground truth labels of shape [batch_size, sequence_length]\n",
    "    :return: Accuracy as a float\n",
    "    \"\"\"\n",
    "    # Find the argmax of the logits along the last dimension to get the most likely token indices\n",
    "    predictions = logits.argmax(dim=-1)\n",
    "    \n",
    "    # Compute the number of correct predictions\n",
    "    correct_predictions = (predictions == labels).float().sum()\n",
    "    \n",
    "    # Calculate the accuracy\n",
    "    accuracy = correct_predictions / labels.numel()\n",
    "    \n",
    "    return accuracy.item()\n",
    "\n",
    "def calc_accuracy(model, loader) -> float:\n",
    "    with torch.no_grad():\n",
    "        model.eval()\n",
    "        for indices, lengths in tqdm(loader, desc=tqdm_desc):\n",
    "            optimizer.zero_grad()\n",
    "            indices = indices[:, :lengths.max()].to(device)\n",
    "            logits = model(indices[:, :-1], lengths - 1)\n",
    "            loss = criterion(logits.transpose(1, 2), indices[:, 1:])\n",
    "            loss.backward()\n",
    "            optimizer.step()\n",
    "        \n",
    "            train_acc += compute_accuracy(logits, indices[:, 1:]) * indices.shape[0]\n",
    "        \n",
    "            train_loss += loss.item() * indices.shape[0]\n",
    "        \n",
    "        train_loss /= len(loader.dataset)\n",
    "        train_acc = train_acc / len(loader.dataset)\n",
    "        return train_loss, train_acc"
   ]
  },
  {
   "cell_type": "code",
   "execution_count": null,
   "metadata": {},
   "outputs": [],
   "source": []
  }
 ],
 "metadata": {
  "kernelspec": {
   "display_name": "Python 3 (ipykernel)",
   "language": "python",
   "name": "python3"
  },
  "language_info": {
   "codemirror_mode": {
    "name": "ipython",
    "version": 3
   },
   "file_extension": ".py",
   "mimetype": "text/x-python",
   "name": "python",
   "nbconvert_exporter": "python",
   "pygments_lexer": "ipython3",
   "version": "3.10.13"
  }
 },
 "nbformat": 4,
 "nbformat_minor": 4
}
